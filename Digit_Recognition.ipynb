{
  "nbformat": 4,
  "nbformat_minor": 0,
  "metadata": {
    "colab": {
      "provenance": [],
      "authorship_tag": "ABX9TyPNFQsRxAliLF5mmfkWGdDU"
    },
    "kernelspec": {
      "name": "python3",
      "display_name": "Python 3"
    },
    "accelerator": "GPU"
  },
  "cells": [
    {
      "cell_type": "code",
      "metadata": {
        "id": "MvPMZg2-HFg-"
      },
      "source": [
        "import pandas as pd\n",
        "import numpy as np\n",
        "import cv2\n",
        "from tensorflow.keras.datasets import mnist\n",
        "from tensorflow.keras.models import Sequential\n",
        "from tensorflow.keras.layers import Dense, MaxPool2D, Flatten, Dropout, Conv2D\n",
        "import matplotlib.pyplot as plt\n",
        "from tensorflow.keras.utils import normalize"
      ],
      "execution_count": null,
      "outputs": []
    },
    {
      "cell_type": "code",
      "metadata": {
        "id": "U0C-o-itH5Q3",
        "colab": {
          "base_uri": "https://localhost:8080/"
        },
        "outputId": "518f72b5-6591-48ef-dfa2-35322a90a17b"
      },
      "source": [
        "(x_train, y_train), (x_test, y_test) = mnist.load_data()\n",
        "\n",
        "x_train = normalize(x_train, axis=1)\n",
        "x_test = normalize(x_test, axis=1)\n",
        "\n",
        "print (x_train[10].shape)"
      ],
      "execution_count": null,
      "outputs": [
        {
          "output_type": "stream",
          "text": [
            "(28, 28)\n"
          ],
          "name": "stdout"
        }
      ]
    },
    {
      "cell_type": "code",
      "metadata": {
        "id": "6lqz_GlYKidd"
      },
      "source": [
        "model = Sequential()\n",
        "model.add(Flatten())\n",
        "model.add(Dense( 128, activation='relu'))\n",
        "model.add(Dense( 64, activation='relu'))\n",
        "model.add(Dense( 10, activation='softmax'))"
      ],
      "execution_count": null,
      "outputs": []
    },
    {
      "cell_type": "code",
      "metadata": {
        "id": "v2U80tsRMafZ"
      },
      "source": [
        "model.compile(\n",
        "    optimizer='adam',\n",
        "    loss = 'sparse_categorical_crossentropy',\n",
        "    metrics= ['accuracy']\n",
        ")"
      ],
      "execution_count": null,
      "outputs": []
    },
    {
      "cell_type": "code",
      "metadata": {
        "id": "9la8XDnHM1iL",
        "colab": {
          "base_uri": "https://localhost:8080/"
        },
        "outputId": "c0070604-fba1-48ed-f844-1844a99c07aa"
      },
      "source": [
        "model.fit(\n",
        "    x_train,\n",
        "    y_train,\n",
        "    epochs = 5,\n",
        "    batch_size = 256,\n",
        "    shuffle = True,\n",
        ")"
      ],
      "execution_count": null,
      "outputs": [
        {
          "output_type": "stream",
          "text": [
            "Epoch 1/5\n",
            "235/235 [==============================] - 1s 2ms/step - loss: 0.9591 - accuracy: 0.7356\n",
            "Epoch 2/5\n",
            "235/235 [==============================] - 1s 2ms/step - loss: 0.2169 - accuracy: 0.9374\n",
            "Epoch 3/5\n",
            "235/235 [==============================] - 1s 2ms/step - loss: 0.1538 - accuracy: 0.9554\n",
            "Epoch 4/5\n",
            "235/235 [==============================] - 1s 2ms/step - loss: 0.1221 - accuracy: 0.9647\n",
            "Epoch 5/5\n",
            "235/235 [==============================] - 1s 2ms/step - loss: 0.0976 - accuracy: 0.9708\n"
          ],
          "name": "stdout"
        },
        {
          "output_type": "execute_result",
          "data": {
            "text/plain": [
              "<tensorflow.python.keras.callbacks.History at 0x7f0c927d7890>"
            ]
          },
          "metadata": {
            "tags": []
          },
          "execution_count": 10
        }
      ]
    },
    {
      "cell_type": "code",
      "metadata": {
        "id": "q3yT8b5YMMEB",
        "colab": {
          "base_uri": "https://localhost:8080/"
        },
        "outputId": "88e90877-f04a-44d2-b3cf-7e9c6a89fcf5"
      },
      "source": [
        "model.summary()"
      ],
      "execution_count": null,
      "outputs": [
        {
          "output_type": "stream",
          "text": [
            "Model: \"sequential_1\"\n",
            "_________________________________________________________________\n",
            "Layer (type)                 Output Shape              Param #   \n",
            "=================================================================\n",
            "flatten_1 (Flatten)          (None, 784)               0         \n",
            "_________________________________________________________________\n",
            "dense_3 (Dense)              (None, 128)               100480    \n",
            "_________________________________________________________________\n",
            "dense_4 (Dense)              (None, 64)                8256      \n",
            "_________________________________________________________________\n",
            "dense_5 (Dense)              (None, 10)                650       \n",
            "=================================================================\n",
            "Total params: 109,386\n",
            "Trainable params: 109,386\n",
            "Non-trainable params: 0\n",
            "_________________________________________________________________\n"
          ],
          "name": "stdout"
        }
      ]
    },
    {
      "cell_type": "code",
      "metadata": {
        "id": "KnBSMONsRSxK",
        "colab": {
          "base_uri": "https://localhost:8080/"
        },
        "outputId": "f0c75147-14cd-47a1-a432-8422ca9aced1"
      },
      "source": [
        "predict = model.predict([x_test])\n",
        "print (predict)"
      ],
      "execution_count": null,
      "outputs": [
        {
          "output_type": "stream",
          "text": [
            "WARNING:tensorflow:Layers in a Sequential model should only have a single input tensor, but we receive a <class 'tuple'> input: (<tf.Tensor 'IteratorGetNext:0' shape=(None, 28, 28) dtype=float32>,)\n",
            "Consider rewriting this model with the Functional API.\n",
            "[[2.8931845e-07 8.9711676e-08 1.9201262e-04 ... 9.9904734e-01\n",
            "  3.0337321e-07 1.2597660e-06]\n",
            " [3.3348424e-06 3.3540705e-03 9.9627787e-01 ... 1.4324898e-09\n",
            "  1.3911269e-04 9.9055632e-11]\n",
            " [8.3078221e-06 9.9890077e-01 5.3438042e-05 ... 1.7855337e-04\n",
            "  4.2623133e-04 1.7421327e-05]\n",
            " ...\n",
            " [4.0784965e-08 2.5271104e-06 3.4920399e-07 ... 5.9903014e-05\n",
            "  8.7860732e-05 2.0110996e-03]\n",
            " [2.6474167e-06 8.9821032e-07 5.3369696e-08 ... 3.3717436e-07\n",
            "  2.9235819e-04 4.1319148e-09]\n",
            " [1.1192851e-05 6.0859406e-08 2.4159651e-06 ... 5.5827569e-09\n",
            "  8.3261866e-06 6.7162901e-08]]\n"
          ],
          "name": "stdout"
        }
      ]
    },
    {
      "cell_type": "code",
      "metadata": {
        "id": "1SGKQsO9hnuF",
        "colab": {
          "base_uri": "https://localhost:8080/",
          "height": 1000
        },
        "outputId": "a567f253-ee0a-49f0-bbfd-6d9b8d00c668"
      },
      "source": [
        "\"\"\"\n",
        "  the code is simply actualy just like this\n",
        "    #print (np.argmax(predict[10]))\n",
        "    or\n",
        "    #predict = np.argmax(predict[10])\n",
        "    #print (predict)\n",
        "\n",
        "  i just make a looping and random number for giving a different of prediction every we run the cell\n",
        "\n",
        "\"\"\"\n",
        "\n",
        "for ran in range(10):\n",
        "  random = np.random.randint(len(x_test))\n",
        "  print ('The Image Below is ' + str(np.argmax(predict[random])))\n",
        "  plt.imshow(x_test[random])\n",
        "  plt.show()"
      ],
      "execution_count": null,
      "outputs": [
        {
          "output_type": "stream",
          "text": [
            "The Image Below is 8\n"
          ],
          "name": "stdout"
        },
        {
          "output_type": "display_data",
          "data": {
            "image/png": "[encoded data removed]",
            "text/plain": [
              "<Figure size 432x288 with 1 Axes>"
            ]
          },
          "metadata": {
            "tags": [],
            "needs_background": "light"
          }
        },
        {
          "output_type": "stream",
          "text": [
            "The Image Below is 8\n"
          ],
          "name": "stdout"
        },
        {
          "output_type": "display_data",
          "data": {
            "image/png": "[encoded data removed]",
            "text/plain": [
              "<Figure size 432x288 with 1 Axes>"
            ]
          },
          "metadata": {
            "tags": [],
            "needs_background": "light"
          }
        },
        {
          "output_type": "stream",
          "text": [
            "The Image Below is 2\n"
          ],
          "name": "stdout"
        },
        {
          "output_type": "display_data",
          "data": {
            "image/png": "[encoded data removed]",
            "text/plain": [
              "<Figure size 432x288 with 1 Axes>"
            ]
          },
          "metadata": {
            "tags": [],
            "needs_background": "light"
          }
        },
        {
          "output_type": "stream",
          "text": [
            "The Image Below is 2\n"
          ],
          "name": "stdout"
        },
        {
          "output_type": "display_data",
          "data": {
            "image/png": "[encoded data removed]",
            "text/plain": [
              "<Figure size 432x288 with 1 Axes>"
            ]
          },
          "metadata": {
            "tags": [],
            "needs_background": "light"
          }
        },
        {
          "output_type": "stream",
          "text": [
            "The Image Below is 8\n"
          ],
          "name": "stdout"
        },
        {
          "output_type": "display_data",
          "data": {
            "image/png": "[encoded data removed]",
            "text/plain": [
              "<Figure size 432x288 with 1 Axes>"
            ]
          },
          "metadata": {
            "tags": [],
            "needs_background": "light"
          }
        },
        {
          "output_type": "stream",
          "text": [
            "The Image Below is 6\n"
          ],
          "name": "stdout"
        },
        {
          "output_type": "display_data",
          "data": {
            "image/png": "[encoded data removed]",
            "text/plain": [
              "<Figure size 432x288 with 1 Axes>"
            ]
          },
          "metadata": {
            "tags": [],
            "needs_background": "light"
          }
        },
        {
          "output_type": "stream",
          "text": [
            "The Image Below is 2\n"
          ],
          "name": "stdout"
        },
        {
          "output_type": "display_data",
          "data": {
            "image/png": "[encoded data removed]",
            "text/plain": [
              "<Figure size 432x288 with 1 Axes>"
            ]
          },
          "metadata": {
            "tags": [],
            "needs_background": "light"
          }
        },
        {
          "output_type": "stream",
          "text": [
            "The Image Below is 7\n"
          ],
          "name": "stdout"
        },
        {
          "output_type": "display_data",
          "data": {
            "image/png": "[encoded data removed]",
            "text/plain": [
              "<Figure size 432x288 with 1 Axes>"
            ]
          },
          "metadata": {
            "tags": [],
            "needs_background": "light"
          }
        },
        {
          "output_type": "stream",
          "text": [
            "The Image Below is 8\n"
          ],
          "name": "stdout"
        },
        {
          "output_type": "display_data",
          "data": {
            "image/png": "[encoded data removed]",
            "text/plain": [
              "<Figure size 432x288 with 1 Axes>"
            ]
          },
          "metadata": {
            "tags": [],
            "needs_background": "light"
          }
        },
        {
          "output_type": "stream",
          "text": [
            "The Image Below is 5\n"
          ],
          "name": "stdout"
        },
        {
          "output_type": "display_data",
          "data": {
            "image/png": "[encoded data removed]",
            "text/plain": [
              "<Figure size 432x288 with 1 Axes>"
            ]
          },
          "metadata": {
            "tags": [],
            "needs_background": "light"
          }
        }
      ]
    },
    {
      "cell_type": "code",
      "metadata": {
        "colab": {
          "base_uri": "https://localhost:8080/",
          "height": 1000
        },
        "id": "oEGRThCQ4Vg0",
        "outputId": "3baad6d0-2ba0-4612-87cc-1d3996b089fb"
      },
      "source": [
        "import pandas as pd\n",
        "import numpy as np\n",
        "import cv2\n",
        "from tensorflow.keras.datasets import mnist\n",
        "from tensorflow.keras.models import Sequential\n",
        "from tensorflow.keras.layers import Dense, MaxPool2D, Flatten, Dropout, Conv2D\n",
        "import matplotlib.pyplot as plt\n",
        "from tensorflow.keras.utils import normalize\n",
        "\n",
        "(YNVrfNowIBFeYXHkwLNWZggzDgcVRSCq, y_train), (UZYDoOqrEARyEHtpPRrIuclrDvjyrclt, y_test) = mnist.load_data()\n",
        "\n",
        "YNVrfNowIBFeYXHkwLNWZggzDgcVRSCq = normalize(YNVrfNowIBFeYXHkwLNWZggzDgcVRSCq, axis=1)\n",
        "UZYDoOqrEARyEHtpPRrIuclrDvjyrclt = normalize(UZYDoOqrEARyEHtpPRrIuclrDvjyrclt, axis=1)\n",
        "\n",
        "print (YNVrfNowIBFeYXHkwLNWZggzDgcVRSCq[10].shape)\n",
        "\n",
        "qzKEyuJdLXYznYkLTZvOcnzAxXIcDZfz = Sequential()\n",
        "qzKEyuJdLXYznYkLTZvOcnzAxXIcDZfz.add(Flatten())\n",
        "qzKEyuJdLXYznYkLTZvOcnzAxXIcDZfz.add(Dense( 128, activation='relu'))\n",
        "qzKEyuJdLXYznYkLTZvOcnzAxXIcDZfz.add(Dense( 64, activation='relu'))\n",
        "qzKEyuJdLXYznYkLTZvOcnzAxXIcDZfz.add(Dense( 10, activation='softmax'))\n",
        "\n",
        "qzKEyuJdLXYznYkLTZvOcnzAxXIcDZfz.compile(\n",
        "    optimizer='adam',\n",
        "    loss = 'sparse_categorical_crossentropy',\n",
        "    metrics= ['accuracy']\n",
        ")\n",
        "\n",
        "qzKEyuJdLXYznYkLTZvOcnzAxXIcDZfz.fit(\n",
        "    YNVrfNowIBFeYXHkwLNWZggzDgcVRSCq,\n",
        "    y_train,\n",
        "    epochs = 5,\n",
        "    batch_size = 256,\n",
        "    shuffle = True,\n",
        ")\n",
        "\n",
        "qzKEyuJdLXYznYkLTZvOcnzAxXIcDZfz.summary()\n",
        "\n",
        "eQdTLZbMZaqpDkGjUSVtuuTvjdZeAWtW = qzKEyuJdLXYznYkLTZvOcnzAxXIcDZfz.predict([UZYDoOqrEARyEHtpPRrIuclrDvjyrclt])\n",
        "print (eQdTLZbMZaqpDkGjUSVtuuTvjdZeAWtW)\n",
        "\n",
        "for BSrimMgbJdNeoikbtvtzScTjbkpJtEKb in range(10):\n",
        "  FbkrBcZfYtuSNFUPYJvBexdOWjYaNsGi = np.random.randint(len(UZYDoOqrEARyEHtpPRrIuclrDvjyrclt))\n",
        "  print ('The Image Below is ' + str(np.argmax(eQdTLZbMZaqpDkGjUSVtuuTvjdZeAWtW[FbkrBcZfYtuSNFUPYJvBexdOWjYaNsGi])))\n",
        "  plt.imshow(UZYDoOqrEARyEHtpPRrIuclrDvjyrclt[FbkrBcZfYtuSNFUPYJvBexdOWjYaNsGi])\n",
        "  plt.show()\n"
      ],
      "execution_count": null,
      "outputs": [
        {
          "output_type": "stream",
          "text": [
            "(28, 28)\n",
            "Epoch 1/5\n",
            "235/235 [==============================] - 1s 2ms/step - loss: 0.9299 - accuracy: 0.7552\n",
            "Epoch 2/5\n",
            "235/235 [==============================] - 1s 2ms/step - loss: 0.2206 - accuracy: 0.9360\n",
            "Epoch 3/5\n",
            "235/235 [==============================] - 1s 2ms/step - loss: 0.1570 - accuracy: 0.9554\n",
            "Epoch 4/5\n",
            "235/235 [==============================] - 1s 2ms/step - loss: 0.1224 - accuracy: 0.9650\n",
            "Epoch 5/5\n",
            "235/235 [==============================] - 1s 2ms/step - loss: 0.0981 - accuracy: 0.9708\n",
            "Model: \"sequential_2\"\n",
            "_________________________________________________________________\n",
            "Layer (type)                 Output Shape              Param #   \n",
            "=================================================================\n",
            "flatten_2 (Flatten)          (None, 784)               0         \n",
            "_________________________________________________________________\n",
            "dense_6 (Dense)              (None, 128)               100480    \n",
            "_________________________________________________________________\n",
            "dense_7 (Dense)              (None, 64)                8256      \n",
            "_________________________________________________________________\n",
            "dense_8 (Dense)              (None, 10)                650       \n",
            "=================================================================\n",
            "Total params: 109,386\n",
            "Trainable params: 109,386\n",
            "Non-trainable params: 0\n",
            "_________________________________________________________________\n",
            "WARNING:tensorflow:Layers in a Sequential model should only have a single input tensor, but we receive a <class 'tuple'> input: (<tf.Tensor 'IteratorGetNext:0' shape=(None, 28, 28) dtype=float32>,)\n",
            "Consider rewriting this model with the Functional API.\n",
            "[[1.5861791e-07 1.3236873e-06 2.4856473e-04 ... 9.9658525e-01\n",
            "  8.9237437e-07 1.2062068e-05]\n",
            " [5.6979072e-08 1.6524153e-02 9.8292625e-01 ... 5.2417319e-09\n",
            "  8.8926498e-07 3.7167866e-10]\n",
            " [4.4206601e-07 9.9923325e-01 2.0301476e-04 ... 1.4765117e-04\n",
            "  1.1881304e-04 3.2556682e-06]\n",
            " ...\n",
            " [6.9034645e-09 1.8354930e-06 1.9711439e-07 ... 3.8432547e-05\n",
            "  2.6659697e-04 1.4745253e-03]\n",
            " [4.5187644e-06 2.7603472e-05 2.0496417e-07 ... 1.2037610e-07\n",
            "  1.8844454e-04 5.3500258e-07]\n",
            " [3.8282902e-05 3.3077259e-07 4.0880313e-05 ... 3.2545879e-09\n",
            "  2.3604596e-06 1.1377278e-08]]\n",
            "The Image Below is 8\n"
          ],
          "name": "stdout"
        },
        {
          "output_type": "display_data",
          "data": {
            "image/png": "[encoded data removed]",
            "text/plain": [
              "<Figure size 432x288 with 1 Axes>"
            ]
          },
          "metadata": {
            "tags": [],
            "needs_background": "light"
          }
        },
        {
          "output_type": "stream",
          "text": [
            "The Image Below is 7\n"
          ],
          "name": "stdout"
        },
        {
          "output_type": "display_data",
          "data": {
            "image/png": "[encoded data removed]",
            "text/plain": [
              "<Figure size 432x288 with 1 Axes>"
            ]
          },
          "metadata": {
            "tags": [],
            "needs_background": "light"
          }
        },
        {
          "output_type": "stream",
          "text": [
            "The Image Below is 9\n"
          ],
          "name": "stdout"
        },
        {
          "output_type": "display_data",
          "data": {
            "image/png": "[encoded data removed]",
            "text/plain": [
              "<Figure size 432x288 with 1 Axes>"
            ]
          },
          "metadata": {
            "tags": [],
            "needs_background": "light"
          }
        },
        {
          "output_type": "stream",
          "text": [
            "The Image Below is 2\n"
          ],
          "name": "stdout"
        },
        {
          "output_type": "display_data",
          "data": {
            "image/png": "[encoded data removed]",
            "text/plain": [
              "<Figure size 432x288 with 1 Axes>"
            ]
          },
          "metadata": {
            "tags": [],
            "needs_background": "light"
          }
        },
        {
          "output_type": "stream",
          "text": [
            "The Image Below is 8\n"
          ],
          "name": "stdout"
        },
        {
          "output_type": "display_data",
          "data": {
            "image/png": "[encoded data removed]",
            "text/plain": [
              "<Figure size 432x288 with 1 Axes>"
            ]
          },
          "metadata": {
            "tags": [],
            "needs_background": "light"
          }
        },
        {
          "output_type": "stream",
          "text": [
            "The Image Below is 3\n"
          ],
          "name": "stdout"
        },
        {
          "output_type": "display_data",
          "data": {
            "image/png": "[encoded data removed]",
            "text/plain": [
              "<Figure size 432x288 with 1 Axes>"
            ]
          },
          "metadata": {
            "tags": [],
            "needs_background": "light"
          }
        },
        {
          "output_type": "stream",
          "text": [
            "The Image Below is 3\n"
          ],
          "name": "stdout"
        },
        {
          "output_type": "display_data",
          "data": {
            "image/png": "[encoded data removed]",
            "text/plain": [
              "<Figure size 432x288 with 1 Axes>"
            ]
          },
          "metadata": {
            "tags": [],
            "needs_background": "light"
          }
        },
        {
          "output_type": "stream",
          "text": [
            "The Image Below is 4\n"
          ],
          "name": "stdout"
        },
        {
          "output_type": "display_data",
          "data": {
            "image/png": "[encoded data removed]",
            "text/plain": [
              "<Figure size 432x288 with 1 Axes>"
            ]
          },
          "metadata": {
            "tags": [],
            "needs_background": "light"
          }
        },
        {
          "output_type": "stream",
          "text": [
            "The Image Below is 9\n"
          ],
          "name": "stdout"
        },
        {
          "output_type": "display_data",
          "data": {
            "image/png": "[encoded data removed]",
            "text/plain": [
              "<Figure size 432x288 with 1 Axes>"
            ]
          },
          "metadata": {
            "tags": [],
            "needs_background": "light"
          }
        },
        {
          "output_type": "stream",
          "text": [
            "The Image Below is 1\n"
          ],
          "name": "stdout"
        },
        {
          "output_type": "display_data",
          "data": {
            "image/png": "[encoded data removed]",
            "text/plain": [
              "<Figure size 432x288 with 1 Axes>"
            ]
          },
          "metadata": {
            "tags": [],
            "needs_background": "light"
          }
        }
      ]
    }
  ]
}